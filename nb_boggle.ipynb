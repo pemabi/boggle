{
 "cells": [
  {
   "cell_type": "code",
   "execution_count": 7,
   "metadata": {},
   "outputs": [],
   "source": [
    "import sys\n",
    "import random\n",
    "import numpy as np\n",
    "import enchant "
   ]
  },
  {
   "cell_type": "code",
   "execution_count": 8,
   "metadata": {},
   "outputs": [],
   "source": [
    "classic_dice = True\n",
    "\n",
    "die0 = ['R', 'I', 'F', 'O', 'B', 'X'] if classic_dice else ['A', 'A', 'E', 'E', 'G', 'N']\n",
    "die1 = ['I', 'F', 'E', 'H', 'E', 'Y'] if classic_dice else ['A', 'B', 'B', 'J', 'O', 'O']\n",
    "die2 = ['D', 'E', 'N', 'O', 'W', 'S'] if classic_dice else ['A', 'C', 'H', 'O', 'P', 'S']\n",
    "die3 = ['U', 'T', 'O', 'K', 'N', 'D'] if classic_dice else ['A', 'F', 'F', 'K', 'P', 'S']\n",
    "die4 = ['H', 'M', 'S', 'R', 'A', 'O'] if classic_dice else ['A', 'O', 'O', 'T', 'T', 'W']\n",
    "die5 = ['L', 'U', 'P', 'E', 'T', 'S'] if classic_dice else ['C', 'I', 'M', 'O', 'T', 'U']\n",
    "die6 = ['A', 'C', 'I', 'T', 'O', 'A'] if classic_dice else ['D', 'E', 'I', 'L', 'R', 'X']\n",
    "die7 = ['Y', 'L', 'G', 'K', 'U', 'E'] if classic_dice else ['D', 'E', 'L', 'R', 'V', 'Y']\n",
    "die8 = ['Qu', 'B', 'M', 'J', 'O', 'A']if classic_dice else ['D', 'I', 'S', 'T', 'T', 'Y']\n",
    "die9 = ['E', 'H', 'I', 'S', 'P', 'N'] if classic_dice else ['E', 'E', 'G', 'H', 'N', 'W']\n",
    "die10 = ['V', 'E', 'T', 'I', 'G', 'N'] if classic_dice else ['E', 'E', 'I', 'N', 'S', 'U']\n",
    "die11 = ['B', 'A', 'L', 'I', 'Y', 'T'] if classic_dice else ['E', 'H', 'R', 'T', 'V', 'W']\n",
    "die12 = ['E', 'Z', 'A', 'V', 'N', 'D'] if classic_dice else ['E', 'I', 'O', 'S', 'S', 'T']\n",
    "die13 = ['R', 'A', 'L', 'E', 'S', 'C'] if classic_dice else ['E', 'L', 'R', 'T', 'T', 'Y']\n",
    "die14 = ['U', 'W', 'I', 'L', 'R', 'G'] if classic_dice else ['H', 'I', 'M', 'N', 'U', 'Qu']\n",
    "die15 = ['P', 'A', 'C', 'E', 'M', 'D'] if classic_dice else ['H', 'L', 'N', 'N', 'R', 'Z']"
   ]
  },
  {
   "cell_type": "code",
   "execution_count": 9,
   "metadata": {},
   "outputs": [],
   "source": [
    "dice = [die0, die1, die2, die3, die4, die5, die6, die7, die8, die9, die10, die11, die12, die13, die14, die15]\n",
    "\n",
    "random.shuffle(dice)  # puts the dice in random order\n",
    "\n",
    "board = [  # picks a random letter from each die\n",
    "    [random.choice(dice[0]), random.choice(dice[1]), random.choice(dice[2]), random.choice(dice[3])],\n",
    "    [random.choice(dice[4]), random.choice(dice[5]), random.choice(dice[6]), random.choice(dice[7])],\n",
    "    [random.choice(dice[8]), random.choice(dice[9]), random.choice(dice[10]), random.choice(dice[11])],\n",
    "    [random.choice(dice[12]), random.choice(dice[13]), random.choice(dice[14]), random.choice(dice[15])]]"
   ]
  },
  {
   "cell_type": "code",
   "execution_count": 10,
   "metadata": {},
   "outputs": [
    {
     "name": "stdout",
     "output_type": "stream",
     "text": [
      "E M O N\n",
      "Y B T N\n",
      "O U F B\n",
      "V T B E\n"
     ]
    }
   ],
   "source": [
    "for row in board:\n",
    "        print(row[0], row[1], row[2], row[3])\n"
   ]
  },
  {
   "cell_type": "code",
   "execution_count": 11,
   "metadata": {},
   "outputs": [
    {
     "name": "stdout",
     "output_type": "stream",
     "text": [
      "702\n",
      "['EMO', 'EMON', 'EMONN', 'EMONT', 'EMONO', 'EMON', 'EMONB', 'EMONF', 'EMONT', 'EMONO', 'EMONN', 'EMOT', 'EMOTN', 'EMOTB', 'EMOTF', 'EMOTU', 'EMOTB', 'EMOTM', 'EMOTO', 'EMOTN', 'EMOB', 'EMOBT', 'EMOBF', 'EMOBU', 'EMOBO', 'EMOBY', 'EMOBE', 'EMOBM', 'EMOBO', 'EMOM', 'EMOMT', 'EMOMB', 'EMOMY', 'EMOME', 'EMT', 'EMTN', 'EMTNB', 'EMTNF', 'EMTNT', 'EMTNO', 'EMTNN', 'EMTB', 'EMTBE', 'EMTBB', 'EMTBF', 'EMTBT', 'EMTBN', 'EMTF', 'EMTFB', 'EMTFE', 'EMTFB', 'EMTFT', 'EMTFU', 'EMTFB', 'EMTFT', 'EMTFN', 'EMTU', 'EMTUF', 'EMTUB', 'EMTUT', 'EMTUV', 'EMTUO', 'EMTUY', 'EMTUB', 'EMTUT', 'EMTB', 'EMTBT', 'EMTBF', 'EMTBU', 'EMTBO', 'EMTBY', 'EMTBE', 'EMTBM', 'EMTBO', 'EMTM', 'EMTMO', 'EMTMB', 'EMTMY', 'EMTME', 'EMTO', 'EMTON', 'EMTON', 'EMTOT', 'EMTOB', 'EMTOM', 'EMTN', 'EMTNN', 'EMTNT', 'EMTNO', 'EMB', 'EMBT', 'EMBTN', 'EMBTB', 'EMBTF', 'EMBTU', 'EMBTB', 'EMBTM', 'EMBTO', 'EMBTN', 'EMBF', 'EMBFB', 'EMBFE', 'EMBFB', 'EMBFT', 'EMBFU', 'EMBFB', 'EMBFT', 'EMBFN', 'EMBU', 'EMBUF', 'EMBUB', 'EMBUT', 'EMBUV', 'EMBUO', 'EMBUY', 'EMBUB', 'EMBUT', 'EMBO', 'EMBOU', 'EMBOT', 'EMBOV', 'EMBOY', 'EMBOB', 'EMBY', 'EMBYB', 'EMBYU', 'EMBYO', 'EMBYE', 'EMBYM', 'EMBE', 'EMBEM', 'EMBEB', 'EMBEY', 'EMBM', 'EMBMO', 'EMBMT', 'EMBMY', 'EMBME', 'EMBO', 'EMBON', 'EMBON', 'EMBOT', 'EMBOB', 'EMBOM', 'EMY', 'EMYB', 'EMYBT', 'EMYBF', 'EMYBU', 'EMYBO', 'EMYBY', 'EMYBE', 'EMYBM', 'EMYBO', 'EMYU', 'EMYUF', 'EMYUB', 'EMYUT', 'EMYUV', 'EMYUO', 'EMYUY', 'EMYUB', 'EMYUT', 'EMYO', 'EMYOU', 'EMYOT', 'EMYOV', 'EMYOY', 'EMYOB', 'EMYE', 'EMYEM', 'EMYEB', 'EMYEY', 'EMYM', 'EMYMO', 'EMYMT', 'EMYMB', 'EMYME', 'EME', 'EMEB', 'EMEBT', 'EMEBF', 'EMEBU', 'EMEBO', 'EMEBY', 'EMEBE', 'EMEBM', 'EMEBO', 'EMEY', 'EMEYB', 'EMEYU', 'EMEYO', 'EMEYE', 'EMEYM', 'EBT', 'EBTN', 'EBTNB', 'EBTNF', 'EBTNT', 'EBTNO', 'EBTNN', 'EBTB', 'EBTBE', 'EBTBB', 'EBTBF', 'EBTBT', 'EBTBN', 'EBTF', 'EBTFB', 'EBTFE', 'EBTFB', 'EBTFT', 'EBTFU', 'EBTFB', 'EBTFT', 'EBTFN', 'EBTU', 'EBTUF', 'EBTUB', 'EBTUT', 'EBTUV', 'EBTUO', 'EBTUY', 'EBTUB', 'EBTUT', 'EBTB', 'EBTBF', 'EBTBU', 'EBTBO', 'EBTBY', 'EBTBE', 'EBTBM', 'EBTBO', 'EBTM', 'EBTMO', 'EBTMT', 'EBTMB', 'EBTMY', 'EBTME', 'EBTO', 'EBTON', 'EBTON', 'EBTOT', 'EBTOB', 'EBTOM', 'EBTN', 'EBTNN', 'EBTNT', 'EBTNO', 'EBF', 'EBFB', 'EBFBE', 'EBFBB', 'EBFBF', 'EBFBT', 'EBFBN', 'EBFE', 'EBFEB', 'EBFEF', 'EBFEB', 'EBFB', 'EBFBE', 'EBFBT', 'EBFBU', 'EBFBF', 'EBFBB', 'EBFT', 'EBFTB', 'EBFTV', 'EBFTO', 'EBFTU', 'EBFTF', 'EBFU', 'EBFUF', 'EBFUB', 'EBFUT', 'EBFUV', 'EBFUO', 'EBFUY', 'EBFUB', 'EBFUT', 'EBFB', 'EBFBT', 'EBFBU', 'EBFBO', 'EBFBY', 'EBFBE', 'EBFBM', 'EBFBO', 'EBFT', 'EBFTN', 'EBFTB', 'EBFTF', 'EBFTU', 'EBFTB', 'EBFTM', 'EBFTO', 'EBFTN', 'EBFN', 'EBFNB', 'EBFNF', 'EBFNT', 'EBFNO', 'EBFNN', 'EBU', 'EBUF', 'EBUFB', 'EBUFE', 'EBUFB', 'EBUFT', 'EBUFU', 'EBUFB', 'EBUFT', 'EBUFN', 'EBUB', 'EBUBE', 'EBUBT', 'EBUBU', 'EBUBF', 'EBUBB', 'EBUT', 'EBUTB', 'EBUTV', 'EBUTO', 'EBUTU', 'EBUTF', 'EBUV', 'EBUVT', 'EBUVO', 'EBUVU', 'EBUO', 'EBUOU', 'EBUOT', 'EBUOV', 'EBUOY', 'EBUOB', 'EBUY', 'EBUYB', 'EBUYU', 'EBUYO', 'EBUYE', 'EBUYM', 'EBUB', 'EBUBT', 'EBUBF', 'EBUBO', 'EBUBY', 'EBUBE', 'EBUBM', 'EBUBO', 'EBUT', 'EBUTN', 'EBUTB', 'EBUTF', 'EBUTU', 'EBUTB', 'EBUTM', 'EBUTO', 'EBUTN', 'EBO', 'EBOU', 'EBOUF', 'EBOUB', 'EBOUT', 'EBOUV', 'EBOUO', 'EBOUY', 'EBOUB', 'EBOUT', 'EBOT', 'EBOTB', 'EBOTV', 'EBOTO', 'EBOTU', 'EBOTF', 'EBOV', 'EBOVT', 'EBOVO', 'EBOVU', 'EBOY', 'EBOYB', 'EBOYU', 'EBOYO', 'EBOYE', 'EBOYM', 'EBOB', 'EBOBT', 'EBOBF', 'EBOBU', 'EBOBY', 'EBOBE', 'EBOBM', 'EBOBO', 'EBY', 'EBYB', 'EBYBT', 'EBYBF', 'EBYBU', 'EBYBO', 'EBYBE', 'EBYBM', 'EBYBO', 'EBYU', 'EBYUF', 'EBYUB', 'EBYUT', 'EBYUV', 'EBYUO', 'EBYUY', 'EBYUB', 'EBYUT', 'EBYO', 'EBYOU', 'EBYOT', 'EBYOV', 'EBYOY', 'EBYOB', 'EBYE', 'EBYEM', 'EBYEB', 'EBYEY', 'EBYM', 'EBYMO', 'EBYMT', 'EBYMB', 'EBYMY', 'EBYME', 'EBE', 'EBEM', 'EBEMO', 'EBEMT', 'EBEMB', 'EBEMY', 'EBEME', 'EBEY', 'EBEYB', 'EBEYU', 'EBEYO', 'EBEYE', 'EBEYM', 'EBM', 'EBMO', 'EBMON', 'EBMON', 'EBMOT', 'EBMOB', 'EBMOM', 'EBMT', 'EBMTN', 'EBMTB', 'EBMTF', 'EBMTU', 'EBMTB', 'EBMTM', 'EBMTO', 'EBMTN', 'EBMB', 'EBMBT', 'EBMBF', 'EBMBU', 'EBMBO', 'EBMBY', 'EBMBE', 'EBMBO', 'EBMY', 'EBMYB', 'EBMYU', 'EBMYO', 'EBMYE', 'EBMYM', 'EBME', 'EBMEM', 'EBMEB', 'EBMEY', 'EBO', 'EBON', 'EBONN', 'EBONT', 'EBONO', 'EBON', 'EBONB', 'EBONF', 'EBONT', 'EBONO', 'EBONN', 'EBOT', 'EBOTN', 'EBOTB', 'EBOTF', 'EBOTU', 'EBOTB', 'EBOTM', 'EBOTO', 'EBOTN', 'EBOB', 'EBOBT', 'EBOBF', 'EBOBU', 'EBOBO', 'EBOBY', 'EBOBE', 'EBOBM', 'EBOM', 'EBOMO', 'EBOMT', 'EBOMB', 'EBOMY', 'EBOME', 'EYB', 'EYBT', 'EYBTN', 'EYBTB', 'EYBTF', 'EYBTU', 'EYBTB', 'EYBTM', 'EYBTO', 'EYBTN', 'EYBF', 'EYBFB', 'EYBFE', 'EYBFB', 'EYBFT', 'EYBFU', 'EYBFB', 'EYBFT', 'EYBFN', 'EYBU', 'EYBUF', 'EYBUB', 'EYBUT', 'EYBUV', 'EYBUO', 'EYBUY', 'EYBUB', 'EYBUT', 'EYBO', 'EYBOU', 'EYBOT', 'EYBOV', 'EYBOY', 'EYBOB', 'EYBY', 'EYBYU', 'EYBYO', 'EYBYE', 'EYBYM', 'EYBE', 'EYBEM', 'EYBEB', 'EYBEY', 'EYBM', 'EYBMO', 'EYBMT', 'EYBMB', 'EYBMY', 'EYBME', 'EYBO', 'EYBON', 'EYBON', 'EYBOT', 'EYBOB', 'EYBOM', 'EYU', 'EYUF', 'EYUFB', 'EYUFE', 'EYUFB', 'EYUFT', 'EYUFU', 'EYUFB', 'EYUFT', 'EYUFN', 'EYUB', 'EYUBE', 'EYUBT', 'EYUBU', 'EYUBF', 'EYUBB', 'EYUT', 'EYUTB', 'EYUTV', 'EYUTO', 'EYUTU', 'EYUTF', 'EYUV', 'EYUVT', 'EYUVO', 'EYUVU', 'EYUO', 'EYUOU', 'EYUOT', 'EYUOV', 'EYUOY', 'EYUOB', 'EYUY', 'EYUYB', 'EYUYO', 'EYUYE', 'EYUYM', 'EYUB', 'EYUBT', 'EYUBF', 'EYUBU', 'EYUBO', 'EYUBY', 'EYUBE', 'EYUBM', 'EYUBO', 'EYUT', 'EYUTN', 'EYUTB', 'EYUTF', 'EYUTU', 'EYUTB', 'EYUTM', 'EYUTO', 'EYUTN', 'EYO', 'EYOU', 'EYOUF', 'EYOUB', 'EYOUT', 'EYOUV', 'EYOUO', 'EYOUY', 'EYOUB', 'EYOUT', 'EYOT', 'EYOTB', 'EYOTV', 'EYOTO', 'EYOTU', 'EYOTF', 'EYOV', 'EYOVT', 'EYOVO', 'EYOVU', 'EYOY', 'EYOYB', 'EYOYU', 'EYOYE', 'EYOYM', 'EYOB', 'EYOBT', 'EYOBF', 'EYOBU', 'EYOBO', 'EYOBY', 'EYOBE', 'EYOBM', 'EYOBO', 'EYE', 'EYEM', 'EYEMO', 'EYEMT', 'EYEMB', 'EYEMY', 'EYEME', 'EYEB', 'EYEBT', 'EYEBF', 'EYEBU', 'EYEBO', 'EYEBY', 'EYEBE', 'EYEBM', 'EYEBO', 'EYM', 'EYMO', 'EYMON', 'EYMON', 'EYMOT', 'EYMOB', 'EYMOM', 'EYMT', 'EYMTN', 'EYMTB', 'EYMTF', 'EYMTU', 'EYMTB', 'EYMTM', 'EYMTO', 'EYMTN', 'EYMB', 'EYMBT', 'EYMBF', 'EYMBU', 'EYMBO', 'EYMBY', 'EYMBE', 'EYMBM', 'EYMBO', 'EYMY', 'EYMYB', 'EYMYU', 'EYMYO', 'EYMYE', 'EYME', 'EYMEM', 'EYMEB', 'EYMEY']\n"
     ]
    }
   ],
   "source": [
    "vectors = [np.array([0, 1]), np.array([1, 1]), np.array([1, 0]), np.array([1, -1]), np.array([0, -1]), np.array([-1, -1]), np.array([-1, 0]), np.array([-1, 1])]\n",
    "words = []\n",
    "vector_log = []  # tracks the word path to exclude repetitions\n",
    "\n",
    "def find_words(current_die, current_word, min_length, max_length):  # recursive implementation running thru all of the possible letter combinations to a defined max length\n",
    "    for vector in vectors:  # iterates thru the vectors, looking at next die along\n",
    "        next_die = (current_die[0] + vector[0], current_die[1] + vector[1])\n",
    "\n",
    "        if 0 <= next_die[0] <= 3 and 0 <= next_die[1] <= 3:  # if die is on board\n",
    "            if len(vector_log) < 2 or not (np.array_equal(vector, vector_log[-1] * -1) and np.array_equal(vector, vector_log[-2])):  # first checks if word is too short to be repeating, if not then makes sure there is no repetition\n",
    "\n",
    "                vector_log.append(vector)\n",
    "\n",
    "                word = current_word + board[next_die[0]][next_die[1]]  # adds new letter to existing string, then adds this to word array\n",
    "                if sum(1 for c in word if c.isupper()) >= min_length:  # checks word is above minimum length. Counting upper case letters to deal with 'Qu's\n",
    "                    words.append(word)\n",
    "                if sum(1 for c in word if c.isupper()) <= max_length:  # if the word is within max length limits, run the recursion setting most recent die examined as current_die.\n",
    "                    find_words(next_die, word, min_length, max_length)\n",
    "\n",
    "                del vector_log[-1]  # removes the last vector - works handily with the recursion when stepping back down in word size - cuts off each node when done with branching\n",
    "\n",
    "find_words(current_die=(0,0), current_word=board[0][0], min_length=3, max_length=4)\n",
    "print(len(words))\n",
    "print(words)\n"
   ]
  },
  {
   "cell_type": "code",
   "execution_count": null,
   "metadata": {},
   "outputs": [],
   "source": []
  }
 ],
 "metadata": {
  "kernelspec": {
   "display_name": "base",
   "language": "python",
   "name": "python3"
  },
  "language_info": {
   "codemirror_mode": {
    "name": "ipython",
    "version": 3
   },
   "file_extension": ".py",
   "mimetype": "text/x-python",
   "name": "python",
   "nbconvert_exporter": "python",
   "pygments_lexer": "ipython3",
   "version": "3.11.2"
  }
 },
 "nbformat": 4,
 "nbformat_minor": 2
}
