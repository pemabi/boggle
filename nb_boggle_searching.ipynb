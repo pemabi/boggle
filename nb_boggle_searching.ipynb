{
 "cells": [
  {
   "cell_type": "code",
   "execution_count": 159,
   "metadata": {},
   "outputs": [],
   "source": [
    "import random\n",
    "import numpy as np"
   ]
  },
  {
   "cell_type": "code",
   "execution_count": 160,
   "metadata": {},
   "outputs": [],
   "source": [
    "classic_dice = False\n",
    "\n",
    "die0 = ['R', 'I', 'F', 'O', 'B', 'X'] if classic_dice else ['A', 'A', 'E', 'E', 'G', 'N']\n",
    "die1 = ['I', 'F', 'E', 'H', 'E', 'Y'] if classic_dice else ['A', 'B', 'B', 'J', 'O', 'O']\n",
    "die2 = ['D', 'E', 'N', 'O', 'W', 'S'] if classic_dice else ['A', 'C', 'H', 'O', 'P', 'S']\n",
    "die3 = ['U', 'T', 'O', 'K', 'N', 'D'] if classic_dice else ['A', 'F', 'F', 'K', 'P', 'S']\n",
    "die4 = ['H', 'M', 'S', 'R', 'A', 'O'] if classic_dice else ['A', 'O', 'O', 'T', 'T', 'W']\n",
    "die5 = ['L', 'U', 'P', 'E', 'T', 'S'] if classic_dice else ['C', 'I', 'M', 'O', 'T', 'U']\n",
    "die6 = ['A', 'C', 'I', 'T', 'O', 'A'] if classic_dice else ['D', 'E', 'I', 'L', 'R', 'X']\n",
    "die7 = ['Y', 'L', 'G', 'K', 'U', 'E'] if classic_dice else ['D', 'E', 'L', 'R', 'V', 'Y']\n",
    "die8 = ['Qu', 'B', 'M', 'J', 'O', 'A']if classic_dice else ['D', 'I', 'S', 'T', 'T', 'Y']\n",
    "die9 = ['E', 'H', 'I', 'S', 'P', 'N'] if classic_dice else ['E', 'E', 'G', 'H', 'N', 'W']\n",
    "die10 = ['V', 'E', 'T', 'I', 'G', 'N'] if classic_dice else ['E', 'E', 'I', 'N', 'S', 'U']\n",
    "die11 = ['B', 'A', 'L', 'I', 'Y', 'T'] if classic_dice else ['E', 'H', 'R', 'T', 'V', 'W']\n",
    "die12 = ['E', 'Z', 'A', 'V', 'N', 'D'] if classic_dice else ['E', 'I', 'O', 'S', 'S', 'T']\n",
    "die13 = ['R', 'A', 'L', 'E', 'S', 'C'] if classic_dice else ['E', 'L', 'R', 'T', 'T', 'Y']\n",
    "die14 = ['U', 'W', 'I', 'L', 'R', 'G'] if classic_dice else ['H', 'I', 'M', 'N', 'U', 'Qu']\n",
    "die15 = ['P', 'A', 'C', 'E', 'M', 'D'] if classic_dice else ['H', 'L', 'N', 'N', 'R', 'Z']"
   ]
  },
  {
   "cell_type": "code",
   "execution_count": 161,
   "metadata": {},
   "outputs": [],
   "source": [
    "dice = [die0, die1, die2, die3, die4, die5, die6, die7, die8, die9, die10, die11, die12, die13, die14, die15]\n",
    "\n",
    "random.shuffle(dice)  # puts the dice in random order\n",
    "\n",
    "board = [  # picks a random letter from each die\n",
    "    [random.choice(dice[0]), random.choice(dice[1]), random.choice(dice[2]), random.choice(dice[3])],\n",
    "    [random.choice(dice[4]), random.choice(dice[5]), random.choice(dice[6]), random.choice(dice[7])],\n",
    "    [random.choice(dice[8]), random.choice(dice[9]), random.choice(dice[10]), random.choice(dice[11])],\n",
    "    [random.choice(dice[12]), random.choice(dice[13]), random.choice(dice[14]), random.choice(dice[15])]]"
   ]
  },
  {
   "cell_type": "code",
   "execution_count": 162,
   "metadata": {},
   "outputs": [
    {
     "name": "stdout",
     "output_type": "stream",
     "text": [
      "M S J I\n",
      "H Y T W\n",
      "I G F E\n",
      "W I L Y\n"
     ]
    }
   ],
   "source": [
    "for row in board:\n",
    "        print(row[0], row[1], row[2], row[3])\n"
   ]
  },
  {
   "cell_type": "code",
   "execution_count": 163,
   "metadata": {},
   "outputs": [],
   "source": [
    "#  binary search, but instead of going one string at a time as they are found on the board, takes full list of possible string combinations on boggle board,  then sorts them and binary searches, taking advantage of face that lower bounds will raise throughout\n",
    "# binary search funciton - time stats 3-5 letter words:\n",
    "    # full board: 1.6 secs (!!)\n",
    "def check_dict_rising_bound(words):\n",
    "    words.sort()\n",
    "    valid_words = []\n",
    "\n",
    "    with open('dictionary.txt') as d:\n",
    "        lines = d.readlines()\n",
    "        lower = 0\n",
    "        upper = len(lines)-1\n",
    "            \n",
    "        def shrinking_binary(lower, upper, word):\n",
    "            while lower <= upper:\n",
    "                midpoint = (lower + upper) // 2\n",
    "                mid_val = lines[midpoint][:-1]\n",
    "                if mid_val < word:\n",
    "                    lower = midpoint + 1\n",
    "                elif mid_val > word:\n",
    "                    upper = midpoint - 1\n",
    "                else:\n",
    "                    return (midpoint, mid_val)\n",
    "\n",
    "        for word in words:\n",
    "            word_check = word.upper()  # not pretty, but have to deal with the pesky Qu cases\n",
    "            info = shrinking_binary(lower, upper, word_check)\n",
    "            if info:\n",
    "                valid_words.append(info[1])\n",
    "                lower = info[0]\n",
    "        \n",
    "    return valid_words\n"
   ]
  },
  {
   "cell_type": "code",
   "execution_count": 164,
   "metadata": {},
   "outputs": [],
   "source": [
    "# binary search funciton - time stats 3-5 letter words:\n",
    "    # full board: 2 mins 13 secs\n",
    "\n",
    "def check_dict_binary(word):\n",
    "    word = word.upper()\n",
    "    with open('dictionary.txt') as d:\n",
    "        lines = d.readlines()\n",
    "        lower = 0\n",
    "        upper = len(lines)-1\n",
    "        while lower <= upper:\n",
    "            midpoint = (lower + upper) // 2\n",
    "            mid_val = lines[midpoint][:-1]\n",
    "            if mid_val < word:\n",
    "                lower = midpoint + 1\n",
    "            elif mid_val > word:\n",
    "                upper = midpoint - 1\n",
    "            else:\n",
    "                return True\n",
    "        return False"
   ]
  },
  {
   "cell_type": "code",
   "execution_count": 165,
   "metadata": {},
   "outputs": [],
   "source": [
    "# linear search function - time stats 3-5 letter words:\n",
    "    # full board: 4mins 21 secs\n",
    "\n",
    "def check_dict_linear(word):  # checks txt file for word, returns True else False\n",
    "    with open('dictionary.txt') as d:\n",
    "        lines = d.readlines()\n",
    "        for line in lines:\n",
    "            if word.upper() in line:\n",
    "                if word == line[:-1]:\n",
    "                    return True\n",
    "        return False"
   ]
  },
  {
   "cell_type": "code",
   "execution_count": 166,
   "metadata": {},
   "outputs": [
    {
     "name": "stdout",
     "output_type": "stream",
     "text": [
      "52\n",
      "['EFTS', 'EYELET', 'FETE', 'FETS', 'FEYLY', 'FIFE', 'FIFTY', 'FILE', 'FILET', 'FILETS', 'FLEW', 'FLEY', 'GIFT', 'GIFTS', 'GIGLET', 'GLEY', 'GYMS', 'HIGH', 'HIGHS', 'HYTE', 'LEFT', 'LEFTS', 'LEFTY', 'LETS', 'LIFE', 'LIFT', 'LIFTS', 'LILY', 'STELE', 'STET', 'STETS', 'STEW', 'STEY', 'STYMY', 'TELE', 'TETS', 'TITS', 'TWIT', 'TWITS', 'WEFT', 'WEFTS', 'WETS', 'WIFE', 'WIFELY', 'WIFEY', 'WIFTY', 'WIGLET', 'WILE', 'WILY', 'WITE', 'WITS', 'YETI']\n"
     ]
    }
   ],
   "source": [
    "vectors = [np.array([0, 1]), np.array([1, 1]), np.array([1, 0]), np.array([1, -1]), np.array([0, -1]), np.array([-1, -1]), np.array([-1, 0]), np.array([-1, 1])]\n",
    "words = []\n",
    "vector_log = []  # tracks the word path to exclude repetitions\n",
    "\n",
    "def find_words(current_die, current_word, min_length, max_length):  # recursive implementation running thru all of the possible letter combinations to a defined max length\n",
    "    \n",
    "    for vector in vectors:  # iterates thru the vectors, looking at next die along\n",
    "        next_die = (current_die[0] + vector[0], current_die[1] + vector[1])\n",
    "\n",
    "        if 0 <= next_die[0] <= 3 and 0 <= next_die[1] <= 3:  # if die is on board\n",
    "            if len(vector_log) < 2 or not (np.array_equal(vector, vector_log[-1] * -1) and np.array_equal(vector, vector_log[-2])):  # first checks if word is too short to be repeating, if not then makes sure there is no repetition\n",
    "\n",
    "                vector_log.append(vector)\n",
    "\n",
    "                word = current_word + board[next_die[0]][next_die[1]]  # adds new letter to existing string, then adds this to word array\n",
    "                if sum(1 for c in word if c.isupper()) >= min_length and word not in words:  # checks word is above minimum length. Counting upper case letters to deal with 'Qu's. Then checks to see if it is a duplicate (nb this might NOT help with qu words). Then passes it into dictionary check function.\n",
    "                    words.append(word)\n",
    "                if sum(1 for c in word if c.isupper()) <= max_length:  # if the word is within max length limits, run the recursion setting most recent die examined as current_die.\n",
    "                    find_words(next_die, word, min_length, max_length)\n",
    "\n",
    "                del vector_log[-1]  # removes the last vector - works handily with the recursion when stepping back down in word size - cuts off each node when done with branching\n",
    "\n",
    "for row_num, row in enumerate(board):\n",
    "    for die_num, die in enumerate(board[row_num]):\n",
    "        find_words(current_die=(row_num,die_num), current_word=die, min_length=4, max_length=5)\n",
    "\n",
    "words = check_dict_rising_bound(words)\n",
    "\n",
    "print(len(words))\n",
    "print(words)\n"
   ]
  },
  {
   "cell_type": "code",
   "execution_count": 167,
   "metadata": {},
   "outputs": [
    {
     "name": "stdout",
     "output_type": "stream",
     "text": [
      "77\n"
     ]
    }
   ],
   "source": [
    "score = 0\n",
    "\n",
    "for word in words:\n",
    "    length = len(word)\n",
    "    if length == 3:\n",
    "        score += 1\n",
    "    elif 3 < length < 7:\n",
    "        score += length - 3\n",
    "    elif length == 7:\n",
    "        score += 5\n",
    "    elif length > 7:\n",
    "        score += 11\n",
    "\n",
    "print(score)"
   ]
  }
 ],
 "metadata": {
  "kernelspec": {
   "display_name": "base",
   "language": "python",
   "name": "python3"
  },
  "language_info": {
   "codemirror_mode": {
    "name": "ipython",
    "version": 3
   },
   "file_extension": ".py",
   "mimetype": "text/x-python",
   "name": "python",
   "nbconvert_exporter": "python",
   "pygments_lexer": "ipython3",
   "version": "3.11.0"
  }
 },
 "nbformat": 4,
 "nbformat_minor": 2
}
