{
 "cells": [
  {
   "cell_type": "code",
   "execution_count": 19,
   "metadata": {},
   "outputs": [],
   "source": [
    "import random\n",
    "import numpy as np"
   ]
  },
  {
   "cell_type": "code",
   "execution_count": 20,
   "metadata": {},
   "outputs": [],
   "source": [
    "classic_dice = True\n",
    "\n",
    "die0 = ['R', 'I', 'F', 'O', 'B', 'X'] if classic_dice else ['A', 'A', 'E', 'E', 'G', 'N']\n",
    "die1 = ['I', 'F', 'E', 'H', 'E', 'Y'] if classic_dice else ['A', 'B', 'B', 'J', 'O', 'O']\n",
    "die2 = ['D', 'E', 'N', 'O', 'W', 'S'] if classic_dice else ['A', 'C', 'H', 'O', 'P', 'S']\n",
    "die3 = ['U', 'T', 'O', 'K', 'N', 'D'] if classic_dice else ['A', 'F', 'F', 'K', 'P', 'S']\n",
    "die4 = ['H', 'M', 'S', 'R', 'A', 'O'] if classic_dice else ['A', 'O', 'O', 'T', 'T', 'W']\n",
    "die5 = ['L', 'U', 'P', 'E', 'T', 'S'] if classic_dice else ['C', 'I', 'M', 'O', 'T', 'U']\n",
    "die6 = ['A', 'C', 'I', 'T', 'O', 'A'] if classic_dice else ['D', 'E', 'I', 'L', 'R', 'X']\n",
    "die7 = ['Y', 'L', 'G', 'K', 'U', 'E'] if classic_dice else ['D', 'E', 'L', 'R', 'V', 'Y']\n",
    "die8 = ['Qu', 'B', 'M', 'J', 'O', 'A']if classic_dice else ['D', 'I', 'S', 'T', 'T', 'Y']\n",
    "die9 = ['E', 'H', 'I', 'S', 'P', 'N'] if classic_dice else ['E', 'E', 'G', 'H', 'N', 'W']\n",
    "die10 = ['V', 'E', 'T', 'I', 'G', 'N'] if classic_dice else ['E', 'E', 'I', 'N', 'S', 'U']\n",
    "die11 = ['B', 'A', 'L', 'I', 'Y', 'T'] if classic_dice else ['E', 'H', 'R', 'T', 'V', 'W']\n",
    "die12 = ['E', 'Z', 'A', 'V', 'N', 'D'] if classic_dice else ['E', 'I', 'O', 'S', 'S', 'T']\n",
    "die13 = ['R', 'A', 'L', 'E', 'S', 'C'] if classic_dice else ['E', 'L', 'R', 'T', 'T', 'Y']\n",
    "die14 = ['U', 'W', 'I', 'L', 'R', 'G'] if classic_dice else ['H', 'I', 'M', 'N', 'U', 'Qu']\n",
    "die15 = ['P', 'A', 'C', 'E', 'M', 'D'] if classic_dice else ['H', 'L', 'N', 'N', 'R', 'Z']"
   ]
  },
  {
   "cell_type": "code",
   "execution_count": 21,
   "metadata": {},
   "outputs": [],
   "source": [
    "dice = [die0, die1, die2, die3, die4, die5, die6, die7, die8, die9, die10, die11, die12, die13, die14, die15]\n",
    "\n",
    "random.shuffle(dice)  # puts the dice in random order\n",
    "\n",
    "board = [  # picks a random letter from each die\n",
    "    [random.choice(dice[0]), random.choice(dice[1]), random.choice(dice[2]), random.choice(dice[3])],\n",
    "    [random.choice(dice[4]), random.choice(dice[5]), random.choice(dice[6]), random.choice(dice[7])],\n",
    "    [random.choice(dice[8]), random.choice(dice[9]), random.choice(dice[10]), random.choice(dice[11])],\n",
    "    [random.choice(dice[12]), random.choice(dice[13]), random.choice(dice[14]), random.choice(dice[15])]]"
   ]
  },
  {
   "cell_type": "code",
   "execution_count": 22,
   "metadata": {},
   "outputs": [
    {
     "name": "stdout",
     "output_type": "stream",
     "text": [
      "J O U F\n",
      "M L W C\n",
      "T E M A\n",
      "E Y G D\n"
     ]
    }
   ],
   "source": [
    "for row in board:\n",
    "        print(row[0], row[1], row[2], row[3])\n"
   ]
  },
  {
   "cell_type": "code",
   "execution_count": null,
   "metadata": {},
   "outputs": [],
   "source": []
  },
  {
   "cell_type": "code",
   "execution_count": 23,
   "metadata": {},
   "outputs": [],
   "source": [
    "#  binary search, but instead of going one string at a time as they are found on the board, takes full list of possible string combinations on boggle board,  then sorts them and binary searches, taking advantage of face that lower bounds will raise throughout\n",
    "# binary search funciton - time stats 3-5 letter words:\n",
    "    # full board: 1.6 secs (!!)\n",
    "def check_dict_rising_bound(words):\n",
    "    words.sort()\n",
    "    valid_words = []\n",
    "\n",
    "    with open('dictionary.txt') as d:\n",
    "        lines = d.readlines()\n",
    "        lower = 0\n",
    "        upper = len(lines)-1\n",
    "            \n",
    "        def shrinking_binary(lower, upper, word):\n",
    "            while lower <= upper:\n",
    "                midpoint = (lower + upper) // 2\n",
    "                mid_val = lines[midpoint][:-1]\n",
    "                if mid_val < word:\n",
    "                    lower = midpoint + 1\n",
    "                elif mid_val > word:\n",
    "                    upper = midpoint - 1\n",
    "                else:\n",
    "                    return (midpoint, mid_val)\n",
    "\n",
    "        \n",
    "        for word in words:\n",
    "            word.upper()\n",
    "            info = shrinking_binary(lower, upper, word)\n",
    "            if info:\n",
    "                valid_words.append(info[1])\n",
    "                lower = info[0]\n",
    "        \n",
    "    return valid_words\n"
   ]
  },
  {
   "cell_type": "code",
   "execution_count": 24,
   "metadata": {},
   "outputs": [],
   "source": [
    "# binary search funciton - time stats 3-5 letter words:\n",
    "    # full board: 2 mins 13 secs\n",
    "\n",
    "words = ['ZAS', 'AYE', 'AYES', 'AYS', 'AIS', 'ASH', 'YES', 'YAY', 'YAYS', 'EYE', 'EYES', 'EYAS', 'SIX', 'SIXTH', 'SIS', 'SHH', 'SAY', 'SAYS', 'SAU', 'SASH', 'IWIS', 'IXIA', 'IXIAS', 'USE', 'USES', 'SWISH', 'SUE', 'SUES', 'HIS', 'XIS', 'WOE', 'WOW', 'WOWS', 'WHEW', 'WHEWS', 'WIS', 'WISH', 'WIZ', 'JOE', 'JOW', 'JOWS', 'JEW', 'JEWS', 'JUS', 'THE', 'THEW', 'THEWS', 'THIS', 'HEH', 'HEX', 'HEW', 'HEWS', 'EWE', 'OWE', 'OWSE']\n",
    "\n",
    "def check_dict_binary(words):\n",
    "\n",
    "    valid_words = []\n",
    "\n",
    "    with open('dictionary.txt') as d:\n",
    "        lines = d.readlines()\n",
    "        for word in words:\n",
    "            word = word.upper()\n",
    "            lower = 0\n",
    "            upper = len(lines)-1\n",
    "            while lower <= upper:\n",
    "                midpoint = (lower + upper) // 2\n",
    "                mid_val = lines[midpoint][:-1]\n",
    "                if mid_val < word:\n",
    "                    lower = midpoint + 1\n",
    "                elif mid_val > word:\n",
    "                    upper = midpoint - 1\n",
    "                else:\n",
    "                    print(mid_val)\n",
    "                    valid_words.append(mid_val)\n",
    "                    break\n",
    "    return valid_words\n",
    "            "
   ]
  },
  {
   "cell_type": "code",
   "execution_count": 25,
   "metadata": {},
   "outputs": [],
   "source": [
    "# linear search function - time stats 3-5 letter words:\n",
    "    # full board: 4mins 21 secs\n",
    "\n",
    "def check_dict_linear(word):  # checks txt file for word, returns True else False\n",
    "    with open('dictionary.txt') as d:\n",
    "        lines = d.readlines()\n",
    "        for line in lines:\n",
    "            if word.upper() in line:\n",
    "                if word == line[:-1]:\n",
    "                    return True\n",
    "        return False"
   ]
  },
  {
   "cell_type": "code",
   "execution_count": 26,
   "metadata": {},
   "outputs": [
    {
     "name": "stdout",
     "output_type": "stream",
     "text": [
      "132\n",
      "['ACME', 'ADAGE', 'AGA', 'AGAMA', 'AGE', 'AGEE', 'AGMA', 'AMA', 'AWA', 'AWE', 'AWEE', 'AWFUL', 'AWL', 'AWOL', 'CAD', 'CADGE', 'CADGY', 'CAGE', 'CAGEY', 'CAGY', 'CAM', 'CAME', 'CAMEL', 'CAW', 'CULET', 'CULM', 'CULT', 'CWM', 'DAD', 'DAG', 'DAM', 'DAME', 'DAW', 'EEL', 'EGAD', 'ELEGY', 'ELM', 'ELMY', 'EME', 'ETYMA', 'EWE', 'EYE', 'GAD', 'GAG', 'GAGE', 'GAM', 'GAMA', 'GAME', 'GAMEY', 'GAMY', 'GEE', 'GEL', 'GELEE', 'GELT', 'GEM', 'GET', 'GEY', 'GYM', 'JOLE', 'JOLT', 'JOLTY', 'JOULE', 'JOW', 'JOWL', 'LEE', 'LEET', 'LEG', 'LET', 'LEY', 'LOW', 'LOWE', 'MAC', 'MACAW', 'MAD', 'MADAM', 'MAG', 'MAGE', 'MAGMA', 'MAMEY', 'MAW', 'MEET', 'MEG', 'MEGA', 'MEL', 'MELEE', 'MELT', 'MELTY', 'MEM', 'MEME', 'MEMO', 'MET', 'METE', 'MEW', 'MEWL', 'MOJO', 'MOL', 'MOLE', 'MOLT', 'MOM', 'MOME', 'MOULT', 'MOW', 'OLE', 'OMEGA', 'OWE', 'OWL', 'OWLET', 'TEE', 'TEEL', 'TEEM', 'TEG', 'TEL', 'TELE', 'TET', 'TEW', 'TYE', 'TYEE', 'ULEMA', 'ULU', 'WAD', 'WAG', 'WAGE', 'WAME', 'WAW', 'WAWL', 'WEE', 'WEET', 'WELT', 'WET', 'WOW', 'YET', 'YEW']\n"
     ]
    }
   ],
   "source": [
    "vectors = [np.array([0, 1]), np.array([1, 1]), np.array([1, 0]), np.array([1, -1]), np.array([0, -1]), np.array([-1, -1]), np.array([-1, 0]), np.array([-1, 1])]\n",
    "words = []\n",
    "vector_log = []  # tracks the word path to exclude repetitions\n",
    "\n",
    "def find_words(current_die, current_word, min_length, max_length):  # recursive implementation running thru all of the possible letter combinations to a defined max length\n",
    "    \n",
    "    for vector in vectors:  # iterates thru the vectors, looking at next die along\n",
    "        next_die = (current_die[0] + vector[0], current_die[1] + vector[1])\n",
    "\n",
    "        if 0 <= next_die[0] <= 3 and 0 <= next_die[1] <= 3:  # if die is on board\n",
    "            if len(vector_log) < 2 or not (np.array_equal(vector, vector_log[-1] * -1) and np.array_equal(vector, vector_log[-2])):  # first checks if word is too short to be repeating, if not then makes sure there is no repetition\n",
    "\n",
    "                vector_log.append(vector)\n",
    "\n",
    "                word = current_word + board[next_die[0]][next_die[1]]  # adds new letter to existing string, then adds this to word array\n",
    "                if sum(1 for c in word if c.isupper()) >= min_length and word not in words:  # checks word is above minimum length. Counting upper case letters to deal with 'Qu's. Then checks to see if it is a duplicate (nb this might NOT help with qu words). Then passes it into dictionary check function.\n",
    "                    words.append(word)\n",
    "                if sum(1 for c in word if c.isupper()) <= max_length:  # if the word is within max length limits, run the recursion setting most recent die examined as current_die.\n",
    "                    find_words(next_die, word, min_length, max_length)\n",
    "\n",
    "                del vector_log[-1]  # removes the last vector - works handily with the recursion when stepping back down in word size - cuts off each node when done with branching\n",
    "\n",
    "for row_num, row in enumerate(board):\n",
    "    for die_num, die in enumerate(board[row_num]):\n",
    "        find_words(current_die=(row_num,die_num), current_word=die, min_length=3, max_length=4)\n",
    "\n",
    "words = check_dict_rising_bound(words)\n",
    "\n",
    "print(len(words))\n",
    "print(words)\n"
   ]
  },
  {
   "cell_type": "code",
   "execution_count": 27,
   "metadata": {},
   "outputs": [
    {
     "name": "stdout",
     "output_type": "stream",
     "text": [
      "132\n",
      "156\n"
     ]
    }
   ],
   "source": [
    "words = list(dict.fromkeys(words))  # converting list to dict and back to quicly remove duplicates\n",
    "print(len(words))\n",
    "\n",
    "score = 0\n",
    "\n",
    "for word in words:\n",
    "    length = len(word)\n",
    "    if length == 3:\n",
    "        score += 1\n",
    "    elif 3 < length < 7:\n",
    "        score += length - 3\n",
    "    elif length == 7:\n",
    "        score += 5\n",
    "    elif length > 7:\n",
    "        score += 11\n",
    "\n",
    "print(score)"
   ]
  }
 ],
 "metadata": {
  "kernelspec": {
   "display_name": "base",
   "language": "python",
   "name": "python3"
  },
  "language_info": {
   "codemirror_mode": {
    "name": "ipython",
    "version": 3
   },
   "file_extension": ".py",
   "mimetype": "text/x-python",
   "name": "python",
   "nbconvert_exporter": "python",
   "pygments_lexer": "ipython3",
   "version": "3.11.0"
  }
 },
 "nbformat": 4,
 "nbformat_minor": 2
}
